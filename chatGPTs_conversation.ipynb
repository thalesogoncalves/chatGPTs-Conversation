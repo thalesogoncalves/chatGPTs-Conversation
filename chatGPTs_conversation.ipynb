{
  "nbformat": 4,
  "nbformat_minor": 0,
  "metadata": {
    "colab": {
      "provenance": []
    },
    "kernelspec": {
      "name": "python3",
      "display_name": "Python 3"
    },
    "language_info": {
      "name": "python"
    }
  },
  "cells": [
    {
      "cell_type": "code",
      "source": [
        "pip install --upgrade openai"
      ],
      "metadata": {
        "id": "XKKEIV9412E1"
      },
      "execution_count": null,
      "outputs": []
    },
    {
      "cell_type": "code",
      "execution_count": null,
      "metadata": {
        "id": "4pxRmoEs1vJ9"
      },
      "outputs": [],
      "source": [
        "import openai\n",
        "\n",
        "# Configure API key\n",
        "openai.api_key = 'xyz' # Insert your openAI API key\n",
        "\n",
        "def get_answer(question, context = ''):\n",
        "    # API call parameters\n",
        "    model = 'text-davinci-003'  # Pick a model suitable for your case\n",
        "\n",
        "    # Call ChatGPT API\n",
        "    answer = openai.Completion.create(\n",
        "        engine=model,\n",
        "        prompt=context + '\\nUser: ' + question + '\\nAssistent:',\n",
        "        max_tokens=1000,\n",
        "        n=1,\n",
        "        stop=None,\n",
        "        temperature=0.7,\n",
        "        top_p=1,\n",
        "        frequency_penalty=0,\n",
        "        presence_penalty=0\n",
        "    )\n",
        "\n",
        "    # Extract and return assistent's answer\n",
        "    return answer.choices[0].text.strip()"
      ]
    },
    {
      "cell_type": "code",
      "source": [
        "# Process Start\n",
        "context1 = ''\n",
        "context2 = ''\n",
        "\n",
        "for i in range(4):\n",
        "\n",
        "    # # # GPT 1 # # #\n",
        "    if i==0:\n",
        "      answer1 = input('GPT 1: ')\n",
        "      context1 += '\\nAssistent: ' + answer1\n",
        "    else:\n",
        "      answer1 = get_answer(answer2, context1)\n",
        "      print('GPT 1:', answer1)\n",
        "      context1 += '\\nUser: ' + answer2 + '\\nAssistent:' + answer1\n",
        "\n",
        "    # # # GPT 2 # # #\n",
        "    answer2 = get_answer(answer1, context2)\n",
        "    print('GPT 2:', answer2)\n",
        "\n",
        "    # Update contexts\n",
        "    context2 += '\\nUser: ' + answer1 + '\\nAssistent:' + answer2"
      ],
      "metadata": {
        "colab": {
          "base_uri": "https://localhost:8080/"
        },
        "id": "80DNEIYFNun2",
        "outputId": "45aa75c2-4fa7-4443-8037-03e3b7a2eec0"
      },
      "execution_count": null,
      "outputs": [
        {
          "output_type": "stream",
          "name": "stdout",
          "text": [
            "GPT 1: Hi! Please start a story with one sentence and then we keep continuing each other, everytime with just one sentence\n",
            "GPT 2: Once upon a time, in a quaint little village nestled between rolling hills, there lived a young girl named Elara.\n",
            "GPT 1: Elara spent her days exploring the forest at the edge of the village, seeking adventure amidst the towering trees and babbling brooks.\n",
            "GPT 2: One afternoon, while wandering deeper into the forest than ever before, Elara stumbled upon an ancient, overgrown pathway hidden beneath a thick canopy of leaves.\n",
            "GPT 1: Intrigued by the mysterious path, Elara hesitated for only a moment before deciding to follow it deeper into the heart of the forest.\n",
            "GPT 2: As she walked, shafts of golden sunlight filtered through the dense foliage, casting intricate patterns on the forest floor.\n",
            "GPT 1: The air grew cooler, and the sounds of the village faded away, leaving Elara with nothing but the rustling of leaves and the occasional chirping of birds.\n",
            "GPT 2: With each step, Elara's curiosity grew, her heart pounding with anticipation of what she might discover at the end of the hidden path.\n"
          ]
        }
      ]
    }
  ]
}